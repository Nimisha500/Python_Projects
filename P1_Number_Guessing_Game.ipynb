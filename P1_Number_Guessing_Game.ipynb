{
  "nbformat": 4,
  "nbformat_minor": 0,
  "metadata": {
    "colab": {
      "name": "P1:Number Guessing Game.ipynb",
      "provenance": [],
      "collapsed_sections": [],
      "authorship_tag": "ABX9TyNsXn/Zk2eJYe/WLXRJMkz3",
      "include_colab_link": true
    },
    "kernelspec": {
      "name": "python3",
      "display_name": "Python 3"
    },
    "language_info": {
      "name": "python"
    }
  },
  "cells": [
    {
      "cell_type": "markdown",
      "metadata": {
        "id": "view-in-github",
        "colab_type": "text"
      },
      "source": [
        "<a href=\"https://colab.research.google.com/github/Nimisha500/Python_Projects/blob/main/P1_Number_Guessing_Game.ipynb\" target=\"_parent\"><img src=\"https://colab.research.google.com/assets/colab-badge.svg\" alt=\"Open In Colab\"/></a>"
      ]
    },
    {
      "cell_type": "code",
      "metadata": {
        "id": "-XfBzu3fdBVH"
      },
      "source": [
        "import random\n",
        "import math\n",
        "\n",
        "low = int(input(\"Enter Lower Bound : \"))\n",
        "upp = int(input(\"Enter Upper Bound : \"))\n",
        "\n",
        "x = random.randint(low,upp)\n",
        "print(\"\\n\\tYou've only \",round(math.log(upp-low+1,2)),\" chances to guess the number!\\n\")\n",
        "\n",
        "count =0\n",
        "\n",
        "while count < math.log(upp-low+1,2):\n",
        "  count+=1\n",
        "\n",
        "  guess = int(input(\"Guess a number : \"))\n",
        "\n",
        "  if x == guess:\n",
        "    print(\"CONGRATULATIONS YOU WON IN\",count,\"tries\")\n",
        "    break\n",
        "  elif x > guess:\n",
        "    print(\"You guessed too small!\")\n",
        "  elif x < guess:\n",
        "    print(\"You guessed too high!\")\n",
        "\n",
        "if count >= math.log(upp-low+1,2):\n",
        "  print(\"\\nThe number is \",x)\n",
        "\n",
        "  print(\"\\t BETTER LUCK NEXT TIME!\")"
      ],
      "execution_count": null,
      "outputs": []
    }
  ]
}