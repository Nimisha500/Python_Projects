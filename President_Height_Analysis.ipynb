{
  "nbformat": 4,
  "nbformat_minor": 0,
  "metadata": {
    "colab": {
      "name": "President Height Analysis.ipynb",
      "provenance": [],
      "collapsed_sections": [],
      "authorship_tag": "ABX9TyPR20v1P++8+2rjIcpDyTf5"
    },
    "kernelspec": {
      "name": "python3",
      "display_name": "Python 3"
    },
    "language_info": {
      "name": "python"
    }
  },
  "cells": [
    {
      "cell_type": "markdown",
      "metadata": {
        "id": "B69MNEigfsq5"
      },
      "source": [
        "**Firstly we import the required modules needed in this project**"
      ]
    },
    {
      "cell_type": "code",
      "metadata": {
        "id": "yjlwu3-PRh1J"
      },
      "source": [
        "# importing required libraries\n",
        "import pandas as pd\n",
        "import statistics\n",
        "import numpy as np\n",
        "import matplotlib.pyplot as plt\n",
        "import seaborn as sns"
      ],
      "execution_count": null,
      "outputs": []
    },
    {
      "cell_type": "markdown",
      "metadata": {
        "id": "1olJYG7qf4mV"
      },
      "source": [
        "**Reading the dataset**"
      ]
    },
    {
      "cell_type": "code",
      "metadata": {
        "colab": {
          "base_uri": "https://localhost:8080/"
        },
        "id": "vqZAHRUCeD6Q",
        "outputId": "4a28867a-1419-450e-d177-d06ff4deebbf"
      },
      "source": [
        "# Load a comma separated file (CSV file) into a DataFrame:\n",
        "df=pd.read_csv('president_heights.csv')\n",
        "print(df.head(10))"
      ],
      "execution_count": null,
      "outputs": [
        {
          "output_type": "stream",
          "text": [
            "   order                    name  height(cm)\n",
            "0      1       George Washington         189\n",
            "1      2              John Adams         170\n",
            "2      3        Thomas Jefferson         189\n",
            "3      4           James Madison         163\n",
            "4      5            James Monroe         183\n",
            "5      6       John Quincy Adams         171\n",
            "6      7          Andrew Jackson         185\n",
            "7      8        Martin Van Buren         168\n",
            "8      9  William Henry Harrison         173\n",
            "9     10              John Tyler         183\n"
          ],
          "name": "stdout"
        }
      ]
    },
    {
      "cell_type": "markdown",
      "metadata": {
        "id": "ZFf7GRgwhzKL"
      },
      "source": [
        "**Printing the shape of dataset**"
      ]
    },
    {
      "cell_type": "code",
      "metadata": {
        "colab": {
          "base_uri": "https://localhost:8080/"
        },
        "id": "8GwWE2Eagw4k",
        "outputId": "fa3e6717-dbbf-41eb-a34a-ba501135691e"
      },
      "source": [
        "print(df.shape)"
      ],
      "execution_count": null,
      "outputs": [
        {
          "output_type": "stream",
          "text": [
            "(42, 3)\n"
          ],
          "name": "stdout"
        }
      ]
    },
    {
      "cell_type": "markdown",
      "metadata": {
        "id": "D2hUkLpYh6O7"
      },
      "source": [
        "The dataset contains 42 rows and 3 columns"
      ]
    },
    {
      "cell_type": "markdown",
      "metadata": {
        "id": "MFpu_WJxge6q"
      },
      "source": [
        "**Information About the dataset**"
      ]
    },
    {
      "cell_type": "code",
      "metadata": {
        "colab": {
          "base_uri": "https://localhost:8080/"
        },
        "id": "Tf5qWN5hgHwK",
        "outputId": "9fb450f7-a9d3-4baa-ff6c-36909e3d5360"
      },
      "source": [
        "print(df.info())"
      ],
      "execution_count": null,
      "outputs": [
        {
          "output_type": "stream",
          "text": [
            "<class 'pandas.core.frame.DataFrame'>\n",
            "RangeIndex: 42 entries, 0 to 41\n",
            "Data columns (total 3 columns):\n",
            " #   Column      Non-Null Count  Dtype \n",
            "---  ------      --------------  ----- \n",
            " 0   order       42 non-null     int64 \n",
            " 1   name        42 non-null     object\n",
            " 2   height(cm)  42 non-null     int64 \n",
            "dtypes: int64(2), object(1)\n",
            "memory usage: 1.1+ KB\n",
            "None\n"
          ],
          "name": "stdout"
        }
      ]
    },
    {
      "cell_type": "markdown",
      "metadata": {
        "id": "PuiL-TtKgwlq"
      },
      "source": [
        "**Creating array of the height column of Dataset**"
      ]
    },
    {
      "cell_type": "code",
      "metadata": {
        "colab": {
          "base_uri": "https://localhost:8080/"
        },
        "id": "CKxvyhSTiXhR",
        "outputId": "655b0d2e-016d-4f47-acd5-9858b14cf607"
      },
      "source": [
        "# creating an array of data\n",
        "height= np.array(df[\"height(cm)\"])\n",
        "print(height)"
      ],
      "execution_count": null,
      "outputs": [
        {
          "output_type": "stream",
          "text": [
            "[189 170 189 163 183 171 185 168 173 183 173 173 175 178 183 193 178 173\n",
            " 174 183 183 168 170 178 182 180 183 178 182 188 175 179 183 193 182 183\n",
            " 177 185 188 188 182 185]\n"
          ],
          "name": "stdout"
        }
      ]
    },
    {
      "cell_type": "markdown",
      "metadata": {
        "id": "SDTXqeYyi42j"
      },
      "source": [
        "**Printing mathematical functions like Mean, Median, Mode , Variance , Standard Deviation, Minimum and Maximum of height.**"
      ]
    },
    {
      "cell_type": "code",
      "metadata": {
        "colab": {
          "base_uri": "https://localhost:8080/"
        },
        "id": "ebLTmRxpi8Ty",
        "outputId": "6792aae6-1e04-40d8-cbd2-f9867646663f"
      },
      "source": [
        "#printing required results\n",
        "print(\"Mean of heights : \", statistics.mean(height))\n",
        "print(\"Median of heights : \", statistics.median(height))\n",
        "print(\"Mode of heights : \", statistics.mode(height))\n",
        "print(\"Minimum height : \", min(height))\n",
        "print(\"Maximum height : \", max(height))\n",
        "print(\"Variance of height : \",statistics.variance(height))\n",
        "print(\"Standard Deviation of height : \",statistics.stdev(height))"
      ],
      "execution_count": null,
      "outputs": [
        {
          "output_type": "stream",
          "text": [
            "Mean of heights :  179\n",
            "Median of heights :  182.0\n",
            "Mode of heights :  183\n",
            "Minimum height :  163\n",
            "Maximum height :  193\n",
            "Variance of height :  49\n",
            "Standard Deviation of height :  7.0\n"
          ],
          "name": "stdout"
        }
      ]
    },
    {
      "cell_type": "markdown",
      "metadata": {
        "id": "cnsm2OW8mPzD"
      },
      "source": [
        "**Computing Percentile**"
      ]
    },
    {
      "cell_type": "code",
      "metadata": {
        "colab": {
          "base_uri": "https://localhost:8080/"
        },
        "id": "zHuca0UamlXb",
        "outputId": "74e7035d-aa97-4bb7-b6bf-e5eefd697802"
      },
      "source": [
        "print(\"25th percentile : \", np.percentile(height, 25))\n",
        "print(\"50th percentile : \", np.percentile(height, 50))\n",
        "print(\"75th percentile : \", np.percentile(height, 75))\n",
        "print(\"100th percentile : \", np.percentile(height, 100))"
      ],
      "execution_count": null,
      "outputs": [
        {
          "output_type": "stream",
          "text": [
            "25th percentile :  174.25\n",
            "50th percentile :  182.0\n",
            "75th percentile :  183.0\n",
            "100th percentile :  193.0\n"
          ],
          "name": "stdout"
        }
      ]
    },
    {
      "cell_type": "markdown",
      "metadata": {
        "id": "M5zN-Wh7ndxT"
      },
      "source": [
        "**Visual representation of this data using tools in Matplotlib.**"
      ]
    },
    {
      "cell_type": "code",
      "metadata": {
        "colab": {
          "base_uri": "https://localhost:8080/",
          "height": 295
        },
        "id": "SDF3pE9Nnn_b",
        "outputId": "bf5e1184-3df4-4598-c89e-71a68f2f37c4"
      },
      "source": [
        "# plot graph\n",
        "plt.title(\"Distribution of US President height\")\n",
        "plt.xlabel(\"Order\")\n",
        "plt.ylabel(\"Height(cm\")\n",
        "plt.plot(height,marker = 'o')\n",
        "plt.show()"
      ],
      "execution_count": null,
      "outputs": [
        {
          "output_type": "display_data",
          "data": {
            "image/png": "[encoded data removed]",
            "text/plain": [
              "<Figure size 432x288 with 1 Axes>"
            ]
          },
          "metadata": {
            "tags": [],
            "needs_background": "light"
          }
        }
      ]
    },
    {
      "cell_type": "code",
      "metadata": {
        "colab": {
          "base_uri": "https://localhost:8080/",
          "height": 295
        },
        "id": "r83yxnMWo-6F",
        "outputId": "8e61f5b9-2df2-4e3b-95d9-0c7c8fddbe4e"
      },
      "source": [
        "# Creating Histogram\n",
        "plt.hist(height)\n",
        "plt.title(\"Distribution of US President height\")\n",
        "plt.xlabel(\"height(cm)\")\n",
        "plt.ylabel(\"Number\")\n",
        "plt.show()"
      ],
      "execution_count": null,
      "outputs": [
        {
          "output_type": "display_data",
          "data": {
            "image/png": "[encoded data removed]",
            "text/plain": [
              "<Figure size 432x288 with 1 Axes>"
            ]
          },
          "metadata": {
            "tags": [],
            "needs_background": "light"
          }
        }
      ]
    },
    {
      "cell_type": "code",
      "metadata": {
        "id": "k0DWyeKdJQN6"
      },
      "source": [
        ""
      ],
      "execution_count": null,
      "outputs": []
    },
    {
      "cell_type": "markdown",
      "metadata": {
        "id": "5zyRWpq8IIgP"
      },
      "source": [
        "**Plotting regplot to measure the increase/decrease in the average height of the US President**"
      ]
    },
    {
      "cell_type": "code",
      "metadata": {
        "colab": {
          "base_uri": "https://localhost:8080/",
          "height": 497
        },
        "id": "EJisFD-aINh2",
        "outputId": "70266ba3-d7f8-43c8-83d3-ebc59514fa17"
      },
      "source": [
        "plt.figure(figsize=(12,8))\n",
        "sns.regplot(x=df[\"order\"], y=df[\"height(cm)\"])\n",
        "plt.show()"
      ],
      "execution_count": null,
      "outputs": [
        {
          "output_type": "display_data",
          "data": {
            "image/png": "[encoded data removed]",
            "text/plain": [
              "<Figure size 864x576 with 1 Axes>"
            ]
          },
          "metadata": {
            "tags": [],
            "needs_background": "light"
          }
        }
      ]
    },
    {
      "cell_type": "markdown",
      "metadata": {
        "id": "rD20w4LVIT_7"
      },
      "source": [
        "We can see that with time, there has been an increase in the average height of the US Presidents."
      ]
    },
    {
      "cell_type": "markdown",
      "metadata": {
        "id": "yaWnAadyIVYz"
      },
      "source": [
        "**Tallest US President**"
      ]
    },
    {
      "cell_type": "code",
      "metadata": {
        "colab": {
          "base_uri": "https://localhost:8080/"
        },
        "id": "G8wY6GR0IaOD",
        "outputId": "def8519f-b0a8-45d3-df10-31ef14415d29"
      },
      "source": [
        "df.max()"
      ],
      "execution_count": null,
      "outputs": [
        {
          "output_type": "execute_result",
          "data": {
            "text/plain": [
              "order                     44\n",
              "name          Zachary Taylor\n",
              "height(cm)               193\n",
              "dtype: object"
            ]
          },
          "metadata": {
            "tags": []
          },
          "execution_count": 13
        }
      ]
    },
    {
      "cell_type": "markdown",
      "metadata": {
        "id": "DvCDr1W9IdvL"
      },
      "source": [
        "**Shortest US President**"
      ]
    },
    {
      "cell_type": "code",
      "metadata": {
        "colab": {
          "base_uri": "https://localhost:8080/"
        },
        "id": "iDGXI6W2IfsW",
        "outputId": "d34c3fd2-deb0-4cfe-e830-8c60598c26e2"
      },
      "source": [
        "df.min()"
      ],
      "execution_count": null,
      "outputs": [
        {
          "output_type": "execute_result",
          "data": {
            "text/plain": [
              "order                       1\n",
              "name          Abraham Lincoln\n",
              "height(cm)                163\n",
              "dtype: object"
            ]
          },
          "metadata": {
            "tags": []
          },
          "execution_count": 14
        }
      ]
    }
  ]
}